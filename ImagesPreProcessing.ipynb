{
 "cells": [
  {
   "cell_type": "code",
   "execution_count": null,
   "metadata": {},
   "outputs": [],
   "source": [
    "import os\n",
    "import sys\n",
    "\n",
    "import numpy as np\n",
    "import matplotlib.pyplot as plt\n",
    "import cv2 as cv"
   ]
  },
  {
   "cell_type": "code",
   "execution_count": null,
   "metadata": {},
   "outputs": [],
   "source": [
    "value2 = False  # Brighten the frames\n",
    "\n",
    "file_list = os.chdir(r'C:\\Users\\Jacopo\\Desktop\\Test')\n",
    "if value2:\n",
    "    j = 0\n",
    "    video_name = 'video_long.avi'\n",
    "    alpha = 3 # Contrast control\n",
    "    beta = 20 # Brightness control\n",
    "\n",
    "    output_path = 'C:/Users/Jacopo/Desktop/Weizmann/Movies/Long One/'\n",
    "    frame = cv.imread(cv.samples.findFile(file_list[0]))\n",
    "    height, width, layers = frame.shape\n",
    "    video = cv.VideoWriter(video_name, 0, 1, (width, height))\n",
    "\n",
    "    for j in range(len((file_list))):\n",
    "        img = cv.imread(cv.samples.findFile(file_list[j]))\n",
    "        adjusted = cv.convertScaleAbs(img, alpha = alpha, beta = beta)\n",
    "\n",
    "        final_path = output_path + file_list[j][-8:]\n",
    "        cv.imwrite(final_path, adjusted) \n",
    "        output_path = 'C:/Users/Jacopo/Desktop/Weizmann/Movies/Long One/'"
   ]
  },
  {
   "cell_type": "code",
   "execution_count": null,
   "metadata": {},
   "outputs": [],
   "source": [
    "value3 = False\n",
    "\n",
    "if value3:\n",
    "    os.chdir(r'C:\\Users\\Jacopo\\Desktop\\)\n",
    "\n",
    "    file_list = os.listdir(r'C:\\Users\\Jacopo\\Desktop\\Weizmann\\Movies\\Long One')\n",
    "    nframes = len(file_list)\n",
    "    print('There are', nframes, 'frames')\n",
    "\n",
    "    #img = cv.imread(cv.samples.findFile(file_list[102]))\n",
    "    #cv.imshow(\"Display window\", img)\n",
    "    #k = cv.waitKey(0)\n",
    "\n",
    "    images = [img for img in os.listdir() if img.endswith(\".tif\")]\n",
    "    frame = cv.imread(images[0])\n",
    "    height, width, layers = frame.shape\n",
    "\n",
    "    video = cv.VideoWriter(video_name, 0, 1, (width, height))\n",
    "\n",
    "    for image in images:\n",
    "        video.write(cv.imread(image))\n",
    "\n",
    "    cv.destroyAllWindows()\n",
    "    video.release()"
   ]
  }
 ],
 "metadata": {
  "language_info": {
   "name": "python"
  }
 },
 "nbformat": 4,
 "nbformat_minor": 2
}
